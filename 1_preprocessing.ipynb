{
 "cells": [
  {
   "cell_type": "markdown",
   "id": "409f4cd4",
   "metadata": {},
   "source": [
    "# 1 Preprocesing GWAS and xQTL raw files\n",
    "\n",
    "Check header before you unified column names.\\\n",
    "GWAS example downloaded from http://ftp.ebi.ac.uk/pub/databases/gwas/summary_statistics/GCST90012001-GCST90013000/GCST90012877/G "
   ]
  },
  {
   "cell_type": "code",
   "execution_count": 11,
   "id": "9b3b34e3",
   "metadata": {},
   "outputs": [],
   "source": [
    "import os\n",
    "import pandas as pd \n",
    "PATH=\"C:/Users/houy2/Documents/Yuan/projects/AD/AD_genetics/AD_MR\"\n",
    "raw_gwas='GWAS/raw'\n",
    "os.chdir(PATH)\n",
    "filename='GCST90012877_buildGRCh37.tsv'\n",
    "icon='\\t'"
   ]
  },
  {
   "cell_type": "code",
   "execution_count": 9,
   "id": "02a73093",
   "metadata": {},
   "outputs": [
    {
     "name": "stdout",
     "output_type": "stream",
     "text": [
      "GCST90012877_buildGRCh37.tsv\n",
      "line[0]:variant_id, rs61769339\n",
      "line[1]:p_value, 0.5322664744291312\n",
      "line[2]:chromosome, 1\n",
      "line[3]:base_pair_location, 662622\n",
      "line[4]:effect_allele, A\n",
      "line[5]:other_allele, G\n",
      "line[6]:effect_allele_frequency, 0.110178\n",
      "line[7]:beta, 0.012680341449\n",
      "line[8]:standard_error, 0.0203031660791\n",
      "line[9]:SNP_ID, rs61769339\n",
      "line[10]:GWAS_BETA, -0.1000\n",
      "line[11]:GWAS_SE, 0.0457\n",
      "line[12]:GWAS_P, 0.02869\n",
      "line[13]:GWAX_UKBB_BETA, 0.0403900106458\n",
      "line[14]:GWAX_UKBB_SE, 0.0226624987665\n",
      "line[15]:GWAX_UKBB_P, 8.9E-02\n",
      "line[16]:DIRECT, -++\n",
      "line[17]:I2, 0.867977473714\n",
      "line[18]:HET_P, 0.005920095008868728\n",
      "line[19]:INFO, 0.777266\n"
     ]
    }
   ],
   "source": [
    "df=open('./%s/%s' % (raw_gwas,filename),\"r\")\n",
    "print(filename)\n",
    "line1=df.readline().strip('\\n').split(icon)\n",
    "line2=df.readline().strip('\\n').split(icon)\n",
    "for item in line1:\n",
    "    i=line1.index(item)\n",
    "    print(\"line[%s]:%s, %s\" % (i,item,line2[i]))\n",
    "df.close()"
   ]
  },
  {
   "cell_type": "code",
   "execution_count": 10,
   "id": "18de8436",
   "metadata": {},
   "outputs": [
    {
     "name": "stdout",
     "output_type": "stream",
     "text": [
      "['variant_id', 'p_value', 'chromosome', 'base_pair_location', 'effect_allele', 'other_allele', 'effect_allele_frequency', 'beta', 'standard_error', 'SNP_ID', 'GWAS_BETA', 'GWAS_SE', 'GWAS_P', 'GWAX_UKBB_BETA', 'GWAX_UKBB_SE', 'GWAX_UKBB_P', 'DIRECT', 'I2', 'HET_P', 'INFO']\n"
     ]
    }
   ],
   "source": [
    "Output_gwas='GWAS/AD' #make a output folder first\n",
    "output_name=\"AD_GCST90012877_b37_2021.tsv\"\n",
    "df=open('./%s/%s' % (Input_folder,filename),\"r\")\n",
    "L1=df.readline().strip(\"\\n\").split(icon)\n",
    "print(L1)\n",
    "df_w=open('./%s/%s' % (Output_gwas,output_name),\"w\")\n",
    "df_w.write(\"rsid\\tchr\\tposition\\tother_allele\\teffect_allele\\tbeta\\tse\\tpval\\teaf\\toutcome\\n\")\n",
    "while True:\n",
    "    line = df.readline()\n",
    "    if len(line) > 0:\n",
    "        line = line.strip(\"\\n\").split(icon)\n",
    "        rsid=line[L1.index('variant_id')]\n",
    "        CHR=line[L1.index('chromosome')]\n",
    "        position=line[L1.index('base_pair_location')]\n",
    "        other_allele=line[L1.index('other_allele')]\n",
    "        effect_allele=line[L1.index('effect_allele')]\n",
    "        beta=line[L1.index('beta')]\n",
    "        se=line[L1.index('standard_error')]\n",
    "        pval=line[L1.index('p_value')]\n",
    "        eaf=line[L1.index(\"effect_allele_frequency\")]\n",
    "        outcome=output_name.split(\".\")[0]\n",
    "        df_w.write(\"%s\\t%s\\t%s\\t%s\\t%s\\t%s\\t%s\\t%s\\t%s\\t%s\\n\" % (rsid,CHR,position,other_allele,effect_allele,beta,se,pval,eaf,outcome))\n",
    "    else:\n",
    "        break\n",
    "\n",
    "df.close()\n",
    "df_w.close()"
   ]
  },
  {
   "cell_type": "code",
   "execution_count": 12,
   "id": "c7fefd6a",
   "metadata": {},
   "outputs": [
    {
     "data": {
      "text/html": [
       "<div>\n",
       "<style scoped>\n",
       "    .dataframe tbody tr th:only-of-type {\n",
       "        vertical-align: middle;\n",
       "    }\n",
       "\n",
       "    .dataframe tbody tr th {\n",
       "        vertical-align: top;\n",
       "    }\n",
       "\n",
       "    .dataframe thead th {\n",
       "        text-align: right;\n",
       "    }\n",
       "</style>\n",
       "<table border=\"1\" class=\"dataframe\">\n",
       "  <thead>\n",
       "    <tr style=\"text-align: right;\">\n",
       "      <th></th>\n",
       "      <th>rsid</th>\n",
       "      <th>chr</th>\n",
       "      <th>position</th>\n",
       "      <th>other_allele</th>\n",
       "      <th>effect_allele</th>\n",
       "      <th>beta</th>\n",
       "      <th>se</th>\n",
       "      <th>pval</th>\n",
       "      <th>eaf</th>\n",
       "      <th>outcome</th>\n",
       "    </tr>\n",
       "  </thead>\n",
       "  <tbody>\n",
       "    <tr>\n",
       "      <th>0</th>\n",
       "      <td>rs61769339</td>\n",
       "      <td>1</td>\n",
       "      <td>662622</td>\n",
       "      <td>G</td>\n",
       "      <td>A</td>\n",
       "      <td>0.012680</td>\n",
       "      <td>0.020303</td>\n",
       "      <td>0.532266</td>\n",
       "      <td>0.110178</td>\n",
       "      <td>AD_GCST90012877_b37_2021</td>\n",
       "    </tr>\n",
       "    <tr>\n",
       "      <th>1</th>\n",
       "      <td>rs190214723</td>\n",
       "      <td>1</td>\n",
       "      <td>693625</td>\n",
       "      <td>C</td>\n",
       "      <td>T</td>\n",
       "      <td>-0.006036</td>\n",
       "      <td>0.037000</td>\n",
       "      <td>0.870407</td>\n",
       "      <td>0.950775</td>\n",
       "      <td>AD_GCST90012877_b37_2021</td>\n",
       "    </tr>\n",
       "    <tr>\n",
       "      <th>2</th>\n",
       "      <td>rs12238997</td>\n",
       "      <td>1</td>\n",
       "      <td>693731</td>\n",
       "      <td>G</td>\n",
       "      <td>A</td>\n",
       "      <td>0.003903</td>\n",
       "      <td>0.018679</td>\n",
       "      <td>0.834508</td>\n",
       "      <td>0.884146</td>\n",
       "      <td>AD_GCST90012877_b37_2021</td>\n",
       "    </tr>\n",
       "    <tr>\n",
       "      <th>3</th>\n",
       "      <td>rs72631875</td>\n",
       "      <td>1</td>\n",
       "      <td>705882</td>\n",
       "      <td>G</td>\n",
       "      <td>A</td>\n",
       "      <td>-0.039365</td>\n",
       "      <td>0.027297</td>\n",
       "      <td>0.149266</td>\n",
       "      <td>0.066959</td>\n",
       "      <td>AD_GCST90012877_b37_2021</td>\n",
       "    </tr>\n",
       "    <tr>\n",
       "      <th>4</th>\n",
       "      <td>rs181440659</td>\n",
       "      <td>1</td>\n",
       "      <td>718505</td>\n",
       "      <td>G</td>\n",
       "      <td>A</td>\n",
       "      <td>-0.064142</td>\n",
       "      <td>0.051075</td>\n",
       "      <td>0.209173</td>\n",
       "      <td>0.028718</td>\n",
       "      <td>AD_GCST90012877_b37_2021</td>\n",
       "    </tr>\n",
       "  </tbody>\n",
       "</table>\n",
       "</div>"
      ],
      "text/plain": [
       "          rsid  chr  position other_allele effect_allele      beta        se  \\\n",
       "0   rs61769339    1    662622            G             A  0.012680  0.020303   \n",
       "1  rs190214723    1    693625            C             T -0.006036  0.037000   \n",
       "2   rs12238997    1    693731            G             A  0.003903  0.018679   \n",
       "3   rs72631875    1    705882            G             A -0.039365  0.027297   \n",
       "4  rs181440659    1    718505            G             A -0.064142  0.051075   \n",
       "\n",
       "       pval       eaf                   outcome  \n",
       "0  0.532266  0.110178  AD_GCST90012877_b37_2021  \n",
       "1  0.870407  0.950775  AD_GCST90012877_b37_2021  \n",
       "2  0.834508  0.884146  AD_GCST90012877_b37_2021  \n",
       "3  0.149266  0.066959  AD_GCST90012877_b37_2021  \n",
       "4  0.209173  0.028718  AD_GCST90012877_b37_2021  "
      ]
     },
     "execution_count": 12,
     "metadata": {},
     "output_type": "execute_result"
    }
   ],
   "source": [
    "df= pd.read_csv(\"./%s/%s\" % (Output_gwas,output_name),sep=\"\\t\")\n",
    "df.head()"
   ]
  },
  {
   "cell_type": "code",
   "execution_count": null,
   "id": "5cbd3b58",
   "metadata": {},
   "outputs": [],
   "source": []
  }
 ],
 "metadata": {
  "kernelspec": {
   "display_name": "Python 3 (ipykernel)",
   "language": "python",
   "name": "python3"
  },
  "language_info": {
   "codemirror_mode": {
    "name": "ipython",
    "version": 3
   },
   "file_extension": ".py",
   "mimetype": "text/x-python",
   "name": "python",
   "nbconvert_exporter": "python",
   "pygments_lexer": "ipython3",
   "version": "3.9.13"
  }
 },
 "nbformat": 4,
 "nbformat_minor": 5
}
